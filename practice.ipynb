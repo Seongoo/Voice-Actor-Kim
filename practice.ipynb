{
 "cells": [
  {
   "cell_type": "code",
   "execution_count": 4,
   "metadata": {},
   "outputs": [
    {
     "name": "stdout",
     "output_type": "stream",
     "text": [
      "12\n"
     ]
    }
   ],
   "source": [
    "n,k = map(int, input().split())\n",
    "coins = list()\n",
    "\n",
    "for i in range(n):\n",
    "    coins.append(int(input()))\n",
    "coin_needed = list()\n",
    "for i in range(len(coins)):\n",
    "    if coins[i] <= k:\n",
    "        coin_needed.append(coins[i])\n",
    "coin_needed = coin_needed[::-1]\n",
    "coin_num = list()\n",
    "for i in range(len(coin_needed)):\n",
    "    temp=k//coin_needed[i]\n",
    "    coin_num.append(temp)\n",
    "    k=k-coin_num[i]*coin_needed[i]\n",
    "    \n",
    "\n",
    "print(sum(coin_num))\n",
    "\n",
    "Hihello"
   ]
  },
  {
   "cell_type": "code",
   "execution_count": 1,
   "metadata": {},
   "outputs": [],
   "source": [
    "n=int(input())\n",
    "meeting_time=list()\n",
    "for i in range(n):\n",
    "    a,b=map(int,input().split())\n",
    "    meeting_time.append([a,b])"
   ]
  },
  {
   "cell_type": "code",
   "execution_count": 3,
   "metadata": {},
   "outputs": [
    {
     "name": "stdout",
     "output_type": "stream",
     "text": [
      "[3, 4, 1, 4, 3, 3, 2, 2, 2, 2, 1]\n",
      "4\n"
     ]
    }
   ],
   "source": [
    "meeting_time.sort()\n",
    "num_meeting_list=list()\n",
    "\n",
    "for j in range(len(meeting_time)):\n",
    "    num_meeting=list()\n",
    "    min=meeting_time[j]\n",
    "    num_meeting.append(min)\n",
    "    for i in range(j+1,n):\n",
    "        if min[1] <= meeting_time[i][0] and min[1] <= meeting_time[i][1]:\n",
    "            num_meeting.append(meeting_time[i])\n",
    "            min=meeting_time[i]\n",
    "    num_meeting_list.append(len(num_meeting))\n",
    "print(max(num_meeting_list))"
   ]
  },
  {
   "cell_type": "code",
   "execution_count": 10,
   "metadata": {},
   "outputs": [
    {
     "name": "stdout",
     "output_type": "stream",
     "text": [
      "2\n"
     ]
    }
   ],
   "source": [
    "b=3\n",
    "b-=1\n",
    "print(b)"
   ]
  },
  {
   "attachments": {},
   "cell_type": "markdown",
   "metadata": {},
   "source": [
    "# 무지먹방"
   ]
  },
  {
   "cell_type": "code",
   "execution_count": 38,
   "metadata": {},
   "outputs": [],
   "source": [
    "def solution(food_times, k):\n",
    "    \n",
    "    counter = 0\n",
    "    position = 0\n",
    "    answer = 0\n",
    "    \n",
    "    while counter != k:\n",
    "        for i in range(len(food_times)):\n",
    "            if food_times[i] == 0:\n",
    "                continue\n",
    "            else:\n",
    "                food_times[i] -= 1\n",
    "                position = i\n",
    "                counter+=1\n",
    "    if max(food_times) == 0:\n",
    "        answer = -1\n",
    "    elif position==len(food_times)-1:\n",
    "        for j in range(len(food_times)):\n",
    "            if food_times[j] != 0:\n",
    "                answer=food_times.index(food_times[j])+1\n",
    "    else:\n",
    "        for j in range(position,len(food_times)):\n",
    "            if food_times[j] != 0:\n",
    "                answer=food_times.index(food_times[j])+1\n",
    "            else:\n",
    "                for k in range(0,position):\n",
    "                    if food_times[i] != 0:\n",
    "                        answer = food_times.index(food_times[j])+1\n",
    "    \n",
    "    if answer == len(food_times):\n",
    "        answer=1\n",
    "\n",
    "    return answer"
   ]
  },
  {
   "cell_type": "code",
   "execution_count": 19,
   "metadata": {},
   "outputs": [],
   "source": [
    "from itertools import combinations\n",
    "\n",
    "def solution(nums):\n",
    "    unique=set(nums)\n",
    "    if len(list(unique)) == 1:\n",
    "        answer=1\n",
    "    \n",
    "    howmany=int(len(nums)/2)\n",
    "    temp=list()\n",
    "    temp_2=list()\n",
    "    possibility = list(combinations(nums,howmany))\n",
    "    for i in possibility:\n",
    "        temp.append(list(i))\n",
    "    for i in temp:\n",
    "        temp_2.append(len(list(set(i))))\n",
    "    \n",
    "    answer=max(temp_2)\n",
    "\n",
    "    return answer"
   ]
  },
  {
   "cell_type": "code",
   "execution_count": 25,
   "metadata": {},
   "outputs": [],
   "source": [
    "a=solution([3,3,3,2,2,4])\n",
    "\n"
   ]
  },
  {
   "cell_type": "code",
   "execution_count": 39,
   "metadata": {},
   "outputs": [],
   "source": [
    "def solution(participant, completion):\n",
    "    answer=''\n",
    "    temp_list=participant\n",
    "    for i in participant:\n",
    "        if i in completion:\n",
    "            temp_list.remove(i)\n",
    "            completion.remove(i)\n",
    "            print(temp_list)\n",
    "            print(completion)\n",
    "    answer=temp_list[0]\n",
    "    return answer"
   ]
  },
  {
   "cell_type": "code",
   "execution_count": 40,
   "metadata": {},
   "outputs": [
    {
     "name": "stdout",
     "output_type": "stream",
     "text": [
      "['stanko', 'mislav', 'ana']\n",
      "['stanko', 'ana']\n",
      "['stanko', 'mislav']\n",
      "['stanko']\n",
      "stanko\n"
     ]
    }
   ],
   "source": [
    "a=solution([\"mislav\", \"stanko\", \"mislav\", \"ana\"],[\"stanko\", \"ana\", \"mislav\"])\n",
    "print(a)"
   ]
  },
  {
   "cell_type": "code",
   "execution_count": 52,
   "metadata": {},
   "outputs": [
    {
     "name": "stdout",
     "output_type": "stream",
     "text": [
      "[1, 2, 3, 3, 4, 5]\n"
     ]
    }
   ],
   "source": [
    "def solution(n, lost, reserve):\n",
    "    temp=list()\n",
    "    n=n-len(lost)\n",
    "    for i in lost:\n",
    "        temp.append(i-1)\n",
    "        temp.append(i)\n",
    "        temp.append(i+1)\n",
    "    print(temp)\n",
    "    answer = 0\n",
    "    return answer\n",
    "\n",
    "a=solution(5,[2, 4],[3])"
   ]
  },
  {
   "cell_type": "code",
   "execution_count": null,
   "metadata": {},
   "outputs": [],
   "source": []
  }
 ],
 "metadata": {
  "kernelspec": {
   "display_name": "Python 3",
   "language": "python",
   "name": "python3"
  },
  "language_info": {
   "codemirror_mode": {
    "name": "ipython",
    "version": 3
   },
   "file_extension": ".py",
   "mimetype": "text/x-python",
   "name": "python",
   "nbconvert_exporter": "python",
   "pygments_lexer": "ipython3",
   "version": "3.9.13"
  },
  "orig_nbformat": 4
 },
 "nbformat": 4,
 "nbformat_minor": 2
}
