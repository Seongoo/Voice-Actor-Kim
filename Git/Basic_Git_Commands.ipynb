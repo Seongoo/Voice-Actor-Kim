{
 "cells": [
  {
   "attachments": {},
   "cell_type": "markdown",
   "metadata": {},
   "source": [
    "## Always follow the commands below!\n",
    "\n",
    "### 1. git pull origin master\n",
    "### 2. Work on the codes\n",
    "### 3. git add .\n",
    "### 4. git commit -m \"What to change\"\n",
    "### 5. git push origin master\n"
   ]
  },
  {
   "cell_type": "markdown",
   "metadata": {},
   "source": []
  }
 ],
 "metadata": {
  "language_info": {
   "name": "python"
  },
  "orig_nbformat": 4
 },
 "nbformat": 4,
 "nbformat_minor": 2
}
