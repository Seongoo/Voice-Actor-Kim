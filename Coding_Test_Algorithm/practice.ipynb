{
 "cells": [
  {
   "cell_type": "code",
   "execution_count": 17,
   "metadata": {},
   "outputs": [],
   "source": [
    "n,k = map(int, input().split())\n",
    "coins = list()\n",
    "\n",
    "for i in range(n):\n",
    "    coins.append(int(input()))\n",
    "coin_needed = list()\n",
    "for i in range(len(coins)):\n",
    "    if coins[i] <= k:\n",
    "        coin_needed.append(coins[i])\n",
    "coin_needed = coin_needed[::-1]\n",
    "coin_num = list()\n",
    "for i in range(len(coin_needed)):\n",
    "    temp=k//coin_needed[i]\n",
    "    coin_num.append(temp)\n",
    "    k=k-coin_num[i]*coin_needed[i]\n",
    "    \n",
    "\n",
    "print(sum(coin_num))\n",
    "\n",
    "Hihelloadsfbafsdbjkhgkjashdfkjasdf"
   ]
  },
  {
   "cell_type": "code",
   "execution_count": null,
   "metadata": {},
   "outputs": [],
   "source": [
    "n=int(input())\n",
    "meeting_time=list()\n",
    "for i in range(n):\n",
    "    a,b=map(int,input().split())\n",
    "    meeting_time.append([a,b])"
   ]
  },
  {
   "cell_type": "code",
   "execution_count": null,
   "metadata": {},
   "outputs": [
    {
     "name": "stdout",
     "output_type": "stream",
     "text": [
      "[3, 4, 1, 4, 3, 3, 2, 2, 2, 2, 1]\n",
      "4\n"
     ]
    }
   ],
   "source": [
    "meeting_time.sort()\n",
    "num_meeting_list=list()\n",
    "\n",
    "for j in range(len(meeting_time)):\n",
    "    num_meeting=list()\n",
    "    min=meeting_time[j]\n",
    "    num_meeting.append(min)\n",
    "    for i in range(j+1,n):\n",
    "        if min[1] <= meeting_time[i][0] and min[1] <= meeting_time[i][1]:\n",
    "            num_meeting.append(meeting_time[i])\n",
    "            min=meeting_time[i]\n",
    "    num_meeting_list.append(len(num_meeting))\n",
    "print(max(num_meeting_list))"
   ]
  },
  {
   "cell_type": "code",
   "execution_count": null,
   "metadata": {},
   "outputs": [
    {
     "name": "stdout",
     "output_type": "stream",
     "text": [
      "2\n"
     ]
    }
   ],
   "source": [
    "b=3\n",
    "b-=1\n",
    "print(b)"
   ]
  },
  {
   "attachments": {},
   "cell_type": "markdown",
   "metadata": {},
   "source": [
    "# 무지먹방"
   ]
  },
  {
   "cell_type": "code",
   "execution_count": null,
   "metadata": {},
   "outputs": [],
   "source": [
    "def solution(food_times, k):\n",
    "    \n",
    "    counter = 0\n",
    "    position = 0\n",
    "    answer = 0\n",
    "    \n",
    "    while counter != k:\n",
    "        for i in range(len(food_times)):\n",
    "            if food_times[i] == 0:\n",
    "                continue\n",
    "            else:\n",
    "                food_times[i] -= 1\n",
    "                position = i\n",
    "                counter+=1\n",
    "    if max(food_times) == 0:\n",
    "        answer = -1\n",
    "    elif position==len(food_times)-1:\n",
    "        for j in range(len(food_times)):\n",
    "            if food_times[j] != 0:\n",
    "                answer=food_times.index(food_times[j])+1\n",
    "    else:\n",
    "        for j in range(position,len(food_times)):\n",
    "            if food_times[j] != 0:\n",
    "                answer=food_times.index(food_times[j])+1\n",
    "            else:\n",
    "                for k in range(0,position):\n",
    "                    if food_times[i] != 0:\n",
    "                        answer = food_times.index(food_times[j])+1\n",
    "    \n",
    "    if answer == len(food_times):\n",
    "        answer=1\n",
    "\n",
    "    return answer"
   ]
  },
  {
   "cell_type": "code",
   "execution_count": null,
   "metadata": {},
   "outputs": [],
   "source": [
    "from itertools import combinations\n",
    "\n",
    "def solution(nums):\n",
    "    unique=set(nums)\n",
    "    if len(list(unique)) == 1:\n",
    "        answer=1\n",
    "    \n",
    "    howmany=int(len(nums)/2)\n",
    "    temp=list()\n",
    "    temp_2=list()\n",
    "    possibility = list(combinations(nums,howmany))\n",
    "    for i in possibility:\n",
    "        temp.append(list(i))\n",
    "    for i in temp:\n",
    "        temp_2.append(len(list(set(i))))\n",
    "    \n",
    "    answer=max(temp_2)\n",
    "\n",
    "    return answer"
   ]
  },
  {
   "cell_type": "code",
   "execution_count": null,
   "metadata": {},
   "outputs": [],
   "source": [
    "a=solution([3,3,3,2,2,4])\n",
    "\n"
   ]
  },
  {
   "cell_type": "code",
   "execution_count": null,
   "metadata": {},
   "outputs": [],
   "source": [
    "def solution(participant, completion):\n",
    "    answer=''\n",
    "    temp_list=participant\n",
    "    for i in participant:\n",
    "        if i in completion:\n",
    "            temp_list.remove(i)\n",
    "            completion.remove(i)\n",
    "            print(temp_list)\n",
    "            print(completion)\n",
    "    answer=temp_list[0]\n",
    "    return answer"
   ]
  },
  {
   "cell_type": "code",
   "execution_count": null,
   "metadata": {},
   "outputs": [
    {
     "name": "stdout",
     "output_type": "stream",
     "text": [
      "['stanko', 'mislav', 'ana']\n",
      "['stanko', 'ana']\n",
      "['stanko', 'mislav']\n",
      "['stanko']\n",
      "stanko\n"
     ]
    }
   ],
   "source": [
    "a=solution([\"mislav\", \"stanko\", \"mislav\", \"ana\"],[\"stanko\", \"ana\", \"mislav\"])\n",
    "print(a)"
   ]
  },
  {
   "cell_type": "code",
   "execution_count": null,
   "metadata": {},
   "outputs": [
    {
     "name": "stdout",
     "output_type": "stream",
     "text": [
      "[1, 2, 3, 3, 4, 5]\n"
     ]
    }
   ],
   "source": [
    "def solution(n, lost, reserve):\n",
    "    temp=list()\n",
    "    n=n-len(lost)\n",
    "    for i in lost:\n",
    "        temp.append(i-1)\n",
    "        temp.append(i)\n",
    "        temp.append(i+1)\n",
    "    print(temp)\n",
    "    answer = 0\n",
    "    return answer\n",
    "\n",
    "a=solution(5,[2, 4],[3])"
   ]
  },
  {
   "cell_type": "code",
   "execution_count": null,
   "metadata": {},
   "outputs": [
    {
     "name": "stdout",
     "output_type": "stream",
     "text": [
      "['1', '9', '2', '4']\n",
      "['91', '21', '41', '29', '49', '42']\n",
      "91\n",
      "[['1', '9'], ['1', '2'], ['1', '4'], ['9', '2'], ['9', '4'], ['2', '4']]\n"
     ]
    }
   ],
   "source": [
    "from itertools import combinations\n",
    "number=1924\n",
    "num_list=[x for x in str(number)]\n",
    "all=list()\n",
    "print(num_list)\n",
    "\n",
    "per_list=list(combinations(num_list,len(num_list)-2))\n",
    "for i in per_list:\n",
    "    all.append(''.join(i[::-1]))\n",
    "print(all)\n",
    "print(max(all))\n",
    "\n",
    "per_list=[list(x) for x in per_list]\n",
    "print(per_list)"
   ]
  },
  {
   "attachments": {},
   "cell_type": "markdown",
   "metadata": {},
   "source": [
    "# 프로그래머스 'Greedy' 큰 수 만들기 문제 (Level 2)"
   ]
  },
  {
   "attachments": {},
   "cell_type": "markdown",
   "metadata": {},
   "source": [
    "### 첫 번째 접근"
   ]
  },
  {
   "cell_type": "code",
   "execution_count": null,
   "metadata": {},
   "outputs": [],
   "source": [
    "from itertools import combinations\n",
    "\n",
    "def solution(number, k):\n",
    "    str_number=str(number)\n",
    "    index_list=[x for x in range(len(str_number))]\n",
    "    per_index_list=list(combinations(index_list,len(str_number)-k))\n",
    "    per_index_list=[sorted(list(x)) for x in per_index_list]\n",
    "    temp=list()\n",
    "    pos_nums=list()\n",
    "    \n",
    "    for i in per_index_list:\n",
    "        for j in i:\n",
    "            temp.append(str_number[j])\n",
    "        pos_nums.append(''.join(temp[0:len(temp)]))\n",
    "        temp=[]\n",
    "\n",
    "    answer=max(pos_nums)\n",
    "    return answer"
   ]
  },
  {
   "cell_type": "code",
   "execution_count": null,
   "metadata": {},
   "outputs": [
    {
     "name": "stdout",
     "output_type": "stream",
     "text": [
      "775841\n"
     ]
    }
   ],
   "source": [
    "test_result = solution(4177252841,4)\n",
    "print(test_result)"
   ]
  },
  {
   "attachments": {},
   "cell_type": "markdown",
   "metadata": {},
   "source": [
    "어떻게 입력값을 넣어도 답은 맞게 나온다. 분명히 효율성에 문제가 있어 보인다.. 여기서 어떻게 시간을 줄일 것인가 고민을 해봐야 한다. combinations 함수는 O(2^N) 시간을 요구하기떄문. 2중 for loop 또한 O(N^2) 를 요구함."
   ]
  },
  {
   "cell_type": "code",
   "execution_count": null,
   "metadata": {},
   "outputs": [],
   "source": [
    "from itertools import combinations\n",
    "\n",
    "def solution(number, k):\n",
    "    str_number=str(number)\n",
    "    index_list=[x for x in range(len(str_number))]\n",
    "    per_index_list=list(combinations(index_list,len(str_number)-k))\n",
    "    per_index_list=[sorted(list(x)) for x in per_index_list]\n",
    "    temp=list()\n",
    "    pos_nums=list()\n",
    "    \n",
    "    for i in per_index_list:\n",
    "        for j in i:\n",
    "            temp.append(str_number[j])\n",
    "        pos_nums.append(''.join(temp[0:len(temp)]))\n",
    "        temp=[]\n",
    "\n",
    "    answer=max(pos_nums)\n",
    "    return answer"
   ]
  },
  {
   "attachments": {},
   "cell_type": "markdown",
   "metadata": {},
   "source": [
    "두 번째 시도. 스텍을 이용하니 비용 절감하고 간단하니 좋았다."
   ]
  },
  {
   "cell_type": "code",
   "execution_count": null,
   "metadata": {},
   "outputs": [
    {
     "name": "stdout",
     "output_type": "stream",
     "text": [
      "no\n"
     ]
    }
   ],
   "source": [
    "def solution(number, k):\n",
    "    stack=[]\n",
    "    for i in number:\n",
    "        while stack and stack[-1]<i and k>0:\n",
    "            stack.pop()\n",
    "            k-=1\n",
    "        \n",
    "        stack.append(i)\n",
    "        if k!=0:\n",
    "            stack=stack[:-k]\n",
    "    answer=''.join(stack)\n",
    "\n",
    "    return answer"
   ]
  },
  {
   "attachments": {},
   "cell_type": "markdown",
   "metadata": {},
   "source": [
    "# 프로그래머스 'Greedy' 단속카메라 문제 (Level 3)"
   ]
  },
  {
   "cell_type": "code",
   "execution_count": 4,
   "metadata": {},
   "outputs": [
    {
     "name": "stdout",
     "output_type": "stream",
     "text": [
      "[[-20, -15], [-18, -6], [-14, -5], [-5, -3]]\n",
      "[[-20, -15]]\n",
      "[[-20, -15], [-14, -5]]\n",
      "2\n"
     ]
    }
   ],
   "source": [
    "def solution(routes):\n",
    "    routes=sorted(routes,key=lambda x: x[1])\n",
    "    print(routes)\n",
    "    stack=[]\n",
    "    \n",
    "    for i in routes:\n",
    "        if stack and stack[-1][1]>=i[0] and stack[-1][1]<=i[1]:\n",
    "            continue\n",
    "        else:\n",
    "            stack.append(i)\n",
    "        print(stack)\n",
    "    return len(stack)\n",
    "a=solution([[-20,-15], [-14,-5], [-18,-6], [-5,-3]])\n",
    "print(a)"
   ]
  },
  {
   "attachments": {},
   "cell_type": "markdown",
   "metadata": {},
   "source": [
    "다른 사람들의 풀이.. 경이롭다. 내꺼는 상당히 복잡해 보인다.."
   ]
  },
  {
   "cell_type": "code",
   "execution_count": 13,
   "metadata": {},
   "outputs": [
    {
     "name": "stdout",
     "output_type": "stream",
     "text": [
      "[[-20, -15], [-18, -13], [-14, -5], [-5, -3]]\n"
     ]
    }
   ],
   "source": [
    "def solution(routes):\n",
    "    routes=sorted(routes)\n",
    "    answer = 1\n",
    "    out_m = 30_000\n",
    "    for in_, out_ in routes:\n",
    "        if in_ > out_m:\n",
    "            answer += 1\n",
    "            out_m = out_\n",
    "        out_m = min(out_m, out_)\n",
    "    return answer"
   ]
  },
  {
   "attachments": {},
   "cell_type": "markdown",
   "metadata": {},
   "source": [
    "# 프로그래머스 '완전탐색' 모의고사 문제 (Level 1)"
   ]
  }
 ],
 "metadata": {
  "kernelspec": {
   "display_name": "Python 3",
   "language": "python",
   "name": "python3"
  },
  "language_info": {
   "codemirror_mode": {
    "name": "ipython",
    "version": 3
   },
   "file_extension": ".py",
   "mimetype": "text/x-python",
   "name": "python",
   "nbconvert_exporter": "python",
   "pygments_lexer": "ipython3",
   "version": "3.9.13"
  },
  "orig_nbformat": 4
 },
 "nbformat": 4,
 "nbformat_minor": 2
}
