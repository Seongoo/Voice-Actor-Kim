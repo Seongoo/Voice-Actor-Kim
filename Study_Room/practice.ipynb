{
 "cells": [
  {
   "attachments": {},
   "cell_type": "markdown",
   "metadata": {},
   "source": [
    "# 기본 문법 정리"
   ]
  },
  {
   "attachments": {},
   "cell_type": "markdown",
   "metadata": {},
   "source": [
    "# 기본 알고리즘 정리"
   ]
  },
  {
   "attachments": {},
   "cell_type": "markdown",
   "metadata": {},
   "source": [
    "## 1. Greedy"
   ]
  },
  {
   "cell_type": "code",
   "execution_count": null,
   "metadata": {},
   "outputs": [],
   "source": []
  },
  {
   "attachments": {},
   "cell_type": "markdown",
   "metadata": {},
   "source": [
    "# 무지먹방"
   ]
  },
  {
   "cell_type": "code",
   "execution_count": null,
   "metadata": {},
   "outputs": [],
   "source": [
    "def solution(food_times, k):\n",
    "    \n",
    "    counter = 0\n",
    "    position = 0\n",
    "    answer = 0\n",
    "    \n",
    "    while counter != k:\n",
    "        for i in range(len(food_times)):\n",
    "            if food_times[i] == 0:\n",
    "                continue\n",
    "            else:\n",
    "                food_times[i] -= 1\n",
    "                position = i\n",
    "                counter+=1\n",
    "    if max(food_times) == 0:\n",
    "        answer = -1\n",
    "    elif position==len(food_times)-1:\n",
    "        for j in range(len(food_times)):\n",
    "            if food_times[j] != 0:\n",
    "                answer=food_times.index(food_times[j])+1\n",
    "    else:\n",
    "        for j in range(position,len(food_times)):\n",
    "            if food_times[j] != 0:\n",
    "                answer=food_times.index(food_times[j])+1\n",
    "            else:\n",
    "                for k in range(0,position):\n",
    "                    if food_times[i] != 0:\n",
    "                        answer = food_times.index(food_times[j])+1\n",
    "    \n",
    "    if answer == len(food_times):\n",
    "        answer=1\n",
    "\n",
    "    return answer"
   ]
  },
  {
   "cell_type": "code",
   "execution_count": null,
   "metadata": {},
   "outputs": [],
   "source": [
    "from itertools import combinations\n",
    "\n",
    "def solution(nums):\n",
    "    unique=set(nums)\n",
    "    if len(list(unique)) == 1:\n",
    "        answer=1\n",
    "    \n",
    "    howmany=int(len(nums)/2)\n",
    "    temp=list()\n",
    "    temp_2=list()\n",
    "    possibility = list(combinations(nums,howmany))\n",
    "    for i in possibility:\n",
    "        temp.append(list(i))\n",
    "    for i in temp:\n",
    "        temp_2.append(len(list(set(i))))\n",
    "    \n",
    "    answer=max(temp_2)\n",
    "\n",
    "    return answer"
   ]
  },
  {
   "cell_type": "code",
   "execution_count": null,
   "metadata": {},
   "outputs": [],
   "source": [
    "a=solution([3,3,3,2,2,4])\n",
    "\n"
   ]
  },
  {
   "cell_type": "code",
   "execution_count": null,
   "metadata": {},
   "outputs": [],
   "source": [
    "def solution(participant, completion):\n",
    "    answer=''\n",
    "    temp_list=participant\n",
    "    for i in participant:\n",
    "        if i in completion:\n",
    "            temp_list.remove(i)\n",
    "            completion.remove(i)\n",
    "            print(temp_list)\n",
    "            print(completion)\n",
    "    answer=temp_list[0]\n",
    "    return answer"
   ]
  },
  {
   "cell_type": "code",
   "execution_count": null,
   "metadata": {},
   "outputs": [
    {
     "name": "stdout",
     "output_type": "stream",
     "text": [
      "['stanko', 'mislav', 'ana']\n",
      "['stanko', 'ana']\n",
      "['stanko', 'mislav']\n",
      "['stanko']\n",
      "stanko\n"
     ]
    }
   ],
   "source": [
    "a=solution([\"mislav\", \"stanko\", \"mislav\", \"ana\"],[\"stanko\", \"ana\", \"mislav\"])\n",
    "print(a)"
   ]
  },
  {
   "cell_type": "code",
   "execution_count": null,
   "metadata": {},
   "outputs": [
    {
     "name": "stdout",
     "output_type": "stream",
     "text": [
      "[1, 2, 3, 3, 4, 5]\n"
     ]
    }
   ],
   "source": [
    "def solution(n, lost, reserve):\n",
    "    temp=list()\n",
    "    n=n-len(lost)\n",
    "    for i in lost:\n",
    "        temp.append(i-1)\n",
    "        temp.append(i)\n",
    "        temp.append(i+1)\n",
    "    print(temp)\n",
    "    answer = 0\n",
    "    return answer\n",
    "\n",
    "a=solution(5,[2, 4],[3])"
   ]
  },
  {
   "cell_type": "code",
   "execution_count": null,
   "metadata": {},
   "outputs": [
    {
     "name": "stdout",
     "output_type": "stream",
     "text": [
      "['1', '9', '2', '4']\n",
      "['91', '21', '41', '29', '49', '42']\n",
      "91\n",
      "[['1', '9'], ['1', '2'], ['1', '4'], ['9', '2'], ['9', '4'], ['2', '4']]\n"
     ]
    }
   ],
   "source": [
    "from itertools import combinations\n",
    "number=1924\n",
    "num_list=[x for x in str(number)]\n",
    "all=list()\n",
    "print(num_list)\n",
    "\n",
    "per_list=list(combinations(num_list,len(num_list)-2))\n",
    "for i in per_list:\n",
    "    all.append(''.join(i[::-1]))\n",
    "print(all)\n",
    "print(max(all))\n",
    "\n",
    "per_list=[list(x) for x in per_list]\n",
    "print(per_list)"
   ]
  },
  {
   "attachments": {},
   "cell_type": "markdown",
   "metadata": {},
   "source": [
    "# 프로그래머스 'Greedy' 큰 수 만들기 문제 (Level 2)"
   ]
  },
  {
   "attachments": {},
   "cell_type": "markdown",
   "metadata": {},
   "source": [
    "### 첫 번째 접근"
   ]
  },
  {
   "cell_type": "code",
   "execution_count": null,
   "metadata": {},
   "outputs": [],
   "source": [
    "from itertools import combinations\n",
    "\n",
    "def solution(number, k):\n",
    "    str_number=str(number)\n",
    "    index_list=[x for x in range(len(str_number))]\n",
    "    per_index_list=list(combinations(index_list,len(str_number)-k))\n",
    "    per_index_list=[sorted(list(x)) for x in per_index_list]\n",
    "    temp=list()\n",
    "    pos_nums=list()\n",
    "    \n",
    "    for i in per_index_list:\n",
    "        for j in i:\n",
    "            temp.append(str_number[j])\n",
    "        pos_nums.append(''.join(temp[0:len(temp)]))\n",
    "        temp=[]\n",
    "\n",
    "    answer=max(pos_nums)\n",
    "    return answer"
   ]
  },
  {
   "cell_type": "code",
   "execution_count": null,
   "metadata": {},
   "outputs": [
    {
     "name": "stdout",
     "output_type": "stream",
     "text": [
      "775841\n"
     ]
    }
   ],
   "source": [
    "test_result = solution(4177252841,4)\n",
    "print(test_result)"
   ]
  },
  {
   "attachments": {},
   "cell_type": "markdown",
   "metadata": {},
   "source": [
    "어떻게 입력값을 넣어도 답은 맞게 나온다. 분명히 효율성에 문제가 있어 보인다.. 여기서 어떻게 시간을 줄일 것인가 고민을 해봐야 한다. combinations 함수는 O(2^N) 시간을 요구하기떄문. 2중 for loop 또한 O(N^2) 를 요구함."
   ]
  },
  {
   "cell_type": "code",
   "execution_count": null,
   "metadata": {},
   "outputs": [],
   "source": [
    "from itertools import combinations\n",
    "\n",
    "def solution(number, k):\n",
    "    str_number=str(number)\n",
    "    index_list=[x for x in range(len(str_number))]\n",
    "    per_index_list=list(combinations(index_list,len(str_number)-k))\n",
    "    per_index_list=[sorted(list(x)) for x in per_index_list]\n",
    "    temp=list()\n",
    "    pos_nums=list()\n",
    "    \n",
    "    for i in per_index_list:\n",
    "        for j in i:\n",
    "            temp.append(str_number[j])\n",
    "        pos_nums.append(''.join(temp[0:len(temp)]))\n",
    "        temp=[]\n",
    "\n",
    "    answer=max(pos_nums)\n",
    "    return answer"
   ]
  },
  {
   "attachments": {},
   "cell_type": "markdown",
   "metadata": {},
   "source": [
    "두 번째 시도. 스텍을 이용하니 비용 절감하고 간단하니 좋았다."
   ]
  },
  {
   "cell_type": "code",
   "execution_count": 5,
   "metadata": {},
   "outputs": [],
   "source": [
    "def solution(number, k):\n",
    "    stack=[]\n",
    "    for i in number:\n",
    "        while stack and stack[-1]<i and k>0:\n",
    "            stack.pop()\n",
    "            k-=1\n",
    "        \n",
    "        stack.append(i)\n",
    "        if k!=0:\n",
    "            stack=stack[:-k]\n",
    "    answer=''.join(stack)\n",
    "\n",
    "    return answer"
   ]
  },
  {
   "attachments": {},
   "cell_type": "markdown",
   "metadata": {},
   "source": [
    "# 프로그래머스 'Greedy' 단속카메라 문제 (Level 3)"
   ]
  },
  {
   "cell_type": "code",
   "execution_count": 4,
   "metadata": {},
   "outputs": [
    {
     "name": "stdout",
     "output_type": "stream",
     "text": [
      "[[-20, -15], [-18, -6], [-14, -5], [-5, -3]]\n",
      "[[-20, -15]]\n",
      "[[-20, -15], [-14, -5]]\n",
      "2\n"
     ]
    }
   ],
   "source": [
    "def solution(routes):\n",
    "    routes=sorted(routes,key=lambda x: x[1])\n",
    "    print(routes)\n",
    "    stack=[]\n",
    "    \n",
    "    for i in routes:\n",
    "        if stack and stack[-1][1]>=i[0] and stack[-1][1]<=i[1]:\n",
    "            continue\n",
    "        else:\n",
    "            stack.append(i)\n",
    "        print(stack)\n",
    "    return len(stack)\n",
    "# a=solution([[-20,-15], [-14,-5], [-18,-6], [-5,-3]])\n",
    "# print(a)"
   ]
  },
  {
   "attachments": {},
   "cell_type": "markdown",
   "metadata": {},
   "source": [
    "다른 사람들의 풀이.. 경이롭다. 내꺼는 상당히 복잡해 보인다.."
   ]
  },
  {
   "cell_type": "code",
   "execution_count": 13,
   "metadata": {},
   "outputs": [
    {
     "name": "stdout",
     "output_type": "stream",
     "text": [
      "[[-20, -15], [-18, -13], [-14, -5], [-5, -3]]\n"
     ]
    }
   ],
   "source": [
    "def solution(routes):\n",
    "    routes=sorted(routes)\n",
    "    answer = 1\n",
    "    out_m = 30_000\n",
    "    for in_, out_ in routes:\n",
    "        if in_ > out_m:\n",
    "            answer += 1\n",
    "            out_m = out_\n",
    "        out_m = min(out_m, out_)\n",
    "    return answer"
   ]
  },
  {
   "attachments": {},
   "cell_type": "markdown",
   "metadata": {},
   "source": [
    "# 프로그래머스 '완전탐색' 모의고사 문제 (Level 1)"
   ]
  },
  {
   "cell_type": "code",
   "execution_count": 8,
   "metadata": {},
   "outputs": [
    {
     "name": "stdout",
     "output_type": "stream",
     "text": [
      "yes\n"
     ]
    }
   ],
   "source": [
    "def solution(answers):\n",
    "    k=len(answers)\n",
    "    yolo_1=[1,2,3,4,5]\n",
    "    yolo_2=[2,1,2,3,2,4,2,5]\n",
    "    yolo_3=[3,3,1,1,2,2,4,4,5,5]\n",
    "    num_answers=[]\n",
    "    answer = []\n",
    "    num_answers_1=0\n",
    "    num_answers_2=0\n",
    "    num_answers_3=0\n",
    "    idx=0\n",
    "    \n",
    "    if len(yolo_1) < k:\n",
    "        yolo_1 += yolo_1*int(k//len(yolo_1))\n",
    "    yolo_1 = yolo_1[:k]\n",
    "    if len(yolo_2) < k:\n",
    "        yolo_2 += yolo_2*int(k//len(yolo_2))\n",
    "    yolo_2 = yolo_2[:k]\n",
    "    if len(yolo_1) < k:\n",
    "        yolo_3 += yolo_3*int(k//len(yolo_3))\n",
    "    yolo_3 = yolo_3[:k]\n",
    "    \n",
    "    for i in answers:\n",
    "        if i == yolo_1[idx]:\n",
    "            num_answers_1 += 1\n",
    "        if i == yolo_2[idx]:\n",
    "            num_answers_2 += 1\n",
    "        if i == yolo_3[idx]:\n",
    "            num_answers_3 += 1\n",
    "        idx += 1\n",
    "\n",
    "    num_answers.append(num_answers_1)\n",
    "    num_answers.append(num_answers_2)\n",
    "    num_answers.append(num_answers_3)\n",
    "\n",
    "    if num_answers[0] == max(num_answers):\n",
    "        answer.append(1)\n",
    "    if num_answers[1] == max(num_answers):\n",
    "        answer.append(2)\n",
    "    if num_answers[2] == max(num_answers):\n",
    "        answer.append(3)\n",
    "    \n",
    "    return answer"
   ]
  },
  {
   "cell_type": "code",
   "execution_count": null,
   "metadata": {},
   "outputs": [],
   "source": [
    "def solution(answers):\n",
    "    k=len(answers)\n",
    "    yolo_1=[1,2,3,4,5]\n",
    "    yolo_2=[2,1,2,3,2,4,2,5]\n",
    "    yolo_3=[3,3,1,1,2,2,4,4,5,5]\n",
    "    answer = []\n",
    "    maxi=0\n",
    "    num_correct_answers=[]\n",
    "    num_answers_1=0\n",
    "    num_answers_2=0\n",
    "    num_answers_3=0\n",
    "    \n",
    "    if len(yolo_1) < k:\n",
    "        yolo_1 += yolo_1*(k//len(yolo_1))\n",
    "    yolo_1 = yolo_1[:k]\n",
    "    if len(yolo_2) < k:\n",
    "        yolo_2 += yolo_2*(k//len(yolo_2))\n",
    "    yolo_2 = yolo_2[:k]\n",
    "    if len(yolo_1) < k:\n",
    "        yolo_3 += yolo_3*(k//len(yolo_3))\n",
    "    yolo_3 = yolo_3[:k]\n",
    "    yolo_1_answer = [a-b for a,b in zip(yolo_1,answers)]\n",
    "    yolo_2_answer = [a-b for a,b in zip(yolo_2,answers)]\n",
    "    yolo_3_answer = [a-b for a,b in zip(yolo_3,answers)]\n",
    "  \n",
    "    num_answers_1=yolo_1_answer.count(0)\n",
    "    num_correct_answers.append(num_answers_1)\n",
    "    num_answers_2=yolo_2_answer.count(0)\n",
    "    num_correct_answers.append(num_answers_2)\n",
    "    num_answers_3=yolo_3_answer.count(0)\n",
    "    num_correct_answers.append(num_answers_3)\n",
    "    \n",
    "    maxi=max(num_correct_answers)\n",
    "    \n",
    "    for i in range(len(num_correct_answers)):\n",
    "        if num_correct_answers[i] == maxi:\n",
    "            answer.append(i+1) \n",
    "    return answer"
   ]
  },
  {
   "cell_type": "code",
   "execution_count": 10,
   "metadata": {},
   "outputs": [
    {
     "name": "stdout",
     "output_type": "stream",
     "text": [
      "[1, 2, 3, 1, 2, 3]\n"
     ]
    }
   ],
   "source": [
    "def solution(answers):\n",
    "\n",
    "    student_1 = [1, 2, 3, 4, 5]\n",
    "    student_2 = [2, 1, 2, 3, 2, 4, 2, 5]\n",
    "    student_3 = [3, 3, 1, 1, 2, 2, 4, 4, 5, 5]\n",
    "\n",
    "    list_count_1 = int(10000 / len(student_1))\n",
    "    list_count_2 = int(10000 / len(student_2))\n",
    "    list_count_3 = int(10000 / len(student_3))\n",
    "\n",
    "    student_1 = student_1 * list_count_1\n",
    "    student_2 = student_2 * list_count_2\n",
    "    student_3 = student_3 * list_count_3\n",
    "\n",
    "    # print(student_3)\n",
    "\n",
    "    index = 0 \n",
    "\n",
    "    result_count_1 = 0 \n",
    "    result_count_2 = 0 \n",
    "    result_count_3 = 0 \n",
    "\n",
    "    for i in answers:\n",
    "        if i == student_1[index]:\n",
    "            result_count_1 += 1 \n",
    "        if i == student_2[index]:\n",
    "            result_count_2 += 1 \n",
    "        if i == student_3[index]:\n",
    "            result_count_3 += 1 \n",
    "        index += 1 \n",
    "\n",
    "    # print(result_count_1)\n",
    "    # print(result_count_2)\n",
    "    # print(result_count_3)\n",
    "\n",
    "    result_point = [result_count_1, result_count_2, result_count_3 ]\n",
    "\n",
    "    result = []\n",
    "\n",
    "    if max(result_point) == result_point[0]:\n",
    "        result.append(1)\n",
    "    if max(result_point) == result_point[1]:\n",
    "        result.append(2)\n",
    "    if max(result_point) == result_point[2]:\n",
    "        result.append(3)\n",
    "\n",
    "    return result"
   ]
  },
  {
   "attachments": {},
   "cell_type": "markdown",
   "metadata": {},
   "source": [
    "# 프로그래머스 '스택/큐' 프린터 문제 (Level 2)"
   ]
  },
  {
   "cell_type": "code",
   "execution_count": 11,
   "metadata": {},
   "outputs": [
    {
     "name": "stdout",
     "output_type": "stream",
     "text": [
      "e\n"
     ]
    }
   ],
   "source": []
  },
  {
   "cell_type": "code",
   "execution_count": null,
   "metadata": {},
   "outputs": [],
   "source": []
  }
 ],
 "metadata": {
  "kernelspec": {
   "display_name": "Python 3",
   "language": "python",
   "name": "python3"
  },
  "language_info": {
   "codemirror_mode": {
    "name": "ipython",
    "version": 3
   },
   "file_extension": ".py",
   "mimetype": "text/x-python",
   "name": "python",
   "nbconvert_exporter": "python",
   "pygments_lexer": "ipython3",
   "version": "3.9.13"
  },
  "orig_nbformat": 4
 },
 "nbformat": 4,
 "nbformat_minor": 2
}
